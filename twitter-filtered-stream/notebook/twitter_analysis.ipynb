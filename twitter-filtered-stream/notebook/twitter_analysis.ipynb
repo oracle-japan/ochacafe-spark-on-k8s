{
 "cells": [
  {
   "cell_type": "code",
   "execution_count": null,
   "metadata": {},
   "outputs": [],
   "source": [
    "# 初期化\n",
    "\n",
    "import os\n",
    "import cx_Oracle as cx\n",
    "\n",
    "import config\n",
    "\n",
    "os.environ['TNS_ADMIN'] = config.tns_admin_path\n",
    "user = config.user\n",
    "password = config.password\n",
    "dsn = config.dsn\n",
    "\n"
   ]
  },
  {
   "cell_type": "code",
   "execution_count": null,
   "metadata": {},
   "outputs": [],
   "source": [
    "# 直近30秒のキーワードランキング\n",
    "\n",
    "with cx.connect(user=user, password=password, dsn=dsn) as conn:\n",
    "    cur = conn.cursor()\n",
    "    cur.execute(\"\"\"\n",
    "        select WINDOW_END + 9/24 as JST, KEYWORD, APPEARANCES from demo.TWEET_KEYWORDS\n",
    "          where WINDOW_END = (select max(WINDOW_END) from demo.TWEET_KEYWORDS)\n",
    "            order by APPEARANCES desc\n",
    "    \"\"\")\n",
    "    res = cur.fetchall()\n",
    "    #res = cur.fetchmany(10)\n",
    "    for r in res:\n",
    "        print (r)\n"
   ]
  },
  {
   "cell_type": "code",
   "execution_count": null,
   "metadata": {},
   "outputs": [],
   "source": [
    "# 直近30秒のワードクラウド\n",
    "\n",
    "words = []\n",
    "end_time = None\n",
    "\n",
    "with cx.connect(user=user, password=password, dsn=dsn) as conn:\n",
    "    cur = conn.cursor()\n",
    "    cur.execute(\"\"\"\n",
    "        select WINDOW_END + 9/24 as JST, KEYWORD, APPEARANCES from demo.TWEET_KEYWORDS\n",
    "          where WINDOW_END = (select max(WINDOW_END) from demo.TWEET_KEYWORDS)\n",
    "            order by APPEARANCES desc\n",
    "    \"\"\")\n",
    "    res = cur.fetchall()\n",
    "    for (end, word, count) in res:\n",
    "        end_time = end\n",
    "        for i in range(count):\n",
    "            words.append(word)\n",
    "\n",
    "#print('|'.join(words))\n",
    "\n",
    "### create word cloud\n",
    "from wordcloud import WordCloud\n",
    " \n",
    "#fpath = \"/usr/share/fonts/ipa-pgothic/ipagp.ttf\"\n",
    "fpath = \"/usr/share/fonts/ipa-gothic/ipag.ttf\"\n",
    "wordcloud = WordCloud(\n",
    "    background_color=\"white\",\n",
    "    font_path=fpath,\n",
    "    collocations=False,\n",
    "    width=800, height=600,\n",
    "    min_font_size=15)\n",
    "wordcloud.generate(' '.join(words))\n",
    "wordcloud.to_file('./wordcloud.png')\n",
    "\n",
    "### show wordcloud image\n",
    "import matplotlib.pyplot as plt\n",
    "import matplotlib.image as mpimg\n",
    "\n",
    "#print(f'Datetime: {end_time.isoformat()}')\n",
    "plt.figure(figsize=(8,6))\n",
    "ax = plt.gca()\n",
    "ax.axes.xaxis.set_visible(False)\n",
    "ax.axes.yaxis.set_visible(False)\n",
    "img = mpimg.imread('./wordcloud.png')\n",
    "plt.title(f\"{end_time.isoformat()} JST\", loc='right', pad=10)\n",
    "plt.gca().spines['right'].set_visible(False)\n",
    "plt.gca().spines['top'].set_visible(False)\n",
    "plt.gca().spines['left'].set_visible(False)\n",
    "plt.gca().spines['bottom'].set_visible(False)\n",
    "plt.imshow(img)\n"
   ]
  },
  {
   "cell_type": "code",
   "execution_count": null,
   "metadata": {},
   "outputs": [],
   "source": [
    "# All Time ランキング (Top 100)\n",
    "\n",
    "with cx.connect(user=user, password=password, dsn=dsn) as conn:\n",
    "    cur = conn.cursor()\n",
    "\n",
    "    cur.execute(\"\"\"\n",
    "      select min(WINDOW_START) + 9/24, max(WINDOW_END) + 9/24 from demo.TWEET_KEYWORDS\n",
    "    \"\"\")\n",
    "    r = cur.fetchone()\n",
    "    print(f'From {r[0].isoformat()} To {r[1].isoformat()}')\n",
    "\n",
    "    cur.execute(\"\"\"\n",
    "      with HISTORY as (\n",
    "        select KEYWORD, sum(APPEARANCES) as TOTAL from demo.TWEET_KEYWORDS\n",
    "          group by KEYWORD\n",
    "            order by TOTAL desc\n",
    "      )\n",
    "      select * from HISTORY where ROWNUM <= 100\n",
    "    \"\"\")\n",
    "    res = cur.fetchall()\n",
    "    for r in res:\n",
    "        print (r)"
   ]
  }
 ],
 "metadata": {
  "interpreter": {
   "hash": "e38a22177aa4919d79cae3ebbed1ba1421db92557b7322b33749d66fbb6214fd"
  },
  "kernelspec": {
   "display_name": "Python 3.6.8 64-bit ('py3ds': virtualenv)",
   "language": "python",
   "name": "python3"
  },
  "language_info": {
   "codemirror_mode": {
    "name": "ipython",
    "version": 3
   },
   "file_extension": ".py",
   "mimetype": "text/x-python",
   "name": "python",
   "nbconvert_exporter": "python",
   "pygments_lexer": "ipython3",
   "version": "3.6.8"
  },
  "orig_nbformat": 4
 },
 "nbformat": 4,
 "nbformat_minor": 2
}
